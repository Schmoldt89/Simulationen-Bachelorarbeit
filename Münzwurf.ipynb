{
 "cells": [
  {
   "cell_type": "code",
   "execution_count": 1,
   "id": "f230d72e",
   "metadata": {},
   "outputs": [],
   "source": [
    "import random"
   ]
  },
  {
   "cell_type": "code",
   "execution_count": 2,
   "id": "70e403d2",
   "metadata": {},
   "outputs": [
    {
     "name": "stdin",
     "output_type": "stream",
     "text": [
      "Wie viele Spieler?  10\n",
      "Wie viele Münzen pro Spieler?  5\n",
      "Wie viele Runden sollen gespielt werden?  120\n"
     ]
    },
    {
     "name": "stdout",
     "output_type": "stream",
     "text": [
      "Spieler: 10, Münzen: 5, Runden: 120\n"
     ]
    }
   ],
   "source": [
    "# Eingabe von drei Werten\n",
    "number_players = int(input(\"Wie viele Spieler? \"))\n",
    "number_coins_init = int(input(\"Wie viele Münzen pro Spieler? \"))\n",
    "number_rounds = int(input(\"Wie viele Runden sollen gespielt werden? \"))\n",
    "\n",
    "# Ausgabe zur Bestätigung\n",
    "print(f\"Spieler: {number_players}, Münzen: {number_coins_init}, Runden: {number_rounds}\")"
   ]
  },
  {
   "cell_type": "code",
   "execution_count": 3,
   "id": "4be4099c",
   "metadata": {},
   "outputs": [],
   "source": [
    "game_init = []\n",
    "game_rounds = []\n",
    "count = number_rounds\n",
    "\n",
    "def number_to_letters(n):\n",
    "    result = ''\n",
    "    while n >= 0:\n",
    "        result = chr(n % 26 + 65) + result\n",
    "        n = n // 26 - 1\n",
    "        if n < 0:\n",
    "            break\n",
    "    return result\n",
    "\n",
    "\n",
    "for i in range(number_players):\n",
    "    game_init.append([number_to_letters(i), number_coins_init])\n",
    "game_rounds.append(game_init)\n",
    "\n",
    "\n",
    "while count != 0:\n",
    "    count -= 1\n",
    "    nround = [x.copy() for x in game_rounds[-1]]\n",
    "    # Spieler auswählen\n",
    "    temp = list(range(0,number_players))\n",
    "        # schon ausgeschiedene Spieler als Spieler für diese Runde nicht berücksichtigen\n",
    "    i = 0\n",
    "    for player in game_rounds[-1]:\n",
    "        if(player[1]==0):\n",
    "            temp[i] = -1\n",
    "        i += 1\n",
    "    temp = [x for x in temp if x != -1]\n",
    "    random.shuffle(temp)\n",
    "    if len(temp)%2 != 0:\n",
    "        temp = temp[:-1]\n",
    "    for i in range(int(len(temp)/2)):\n",
    "        key_player1 = i*2\n",
    "        key_player2 = i*2+1\n",
    "        if (random.randint(0,1) == 0):\n",
    "            nround[temp[key_player1]][1] += 1\n",
    "            nround[temp[key_player2]][1] -= 1\n",
    "        else:\n",
    "            nround[temp[key_player1]][1] -= 1\n",
    "            nround[temp[key_player2]][1] += 1\n",
    "    game_rounds.append(nround)"
   ]
  },
  {
   "cell_type": "code",
   "execution_count": 4,
   "id": "ff134aa8",
   "metadata": {},
   "outputs": [],
   "source": [
    "import matplotlib.pyplot as plt\n",
    "from PIL import Image\n",
    "import io\n",
    "\n",
    "frames = []\n",
    "\n",
    "for round_index, game_round in enumerate(game_rounds):\n",
    "    # Daten extrahieren\n",
    "    labels = [player[0] for player in game_round]\n",
    "    values = [player[1] for player in game_round]\n",
    "\n",
    "    # Diagramm erstellen\n",
    "    fig, ax = plt.subplots()\n",
    "    ax.bar(labels, values, color='skyblue')\n",
    "    ax.set_ylim(0, max(values + [1]))  # Y-Achse fixieren\n",
    "    ax.set_title(f\"Runde {round_index}\")\n",
    "    ax.set_ylabel(\"Münzen\")\n",
    "    ax.set_xlabel(\"Spieler\")\n",
    "\n",
    "    # Bild in Speicher schreiben\n",
    "    buf = io.BytesIO()\n",
    "    plt.savefig(buf, format='png')\n",
    "    buf.seek(0)\n",
    "    frames.append(Image.open(buf))\n",
    "    plt.close()\n",
    "\n",
    "# GIF speichern\n",
    "frames[0].save(\n",
    "    \"spielverlauf.gif\",\n",
    "    save_all=True,\n",
    "    append_images=frames[1:],\n",
    "    duration=200,  # Dauer pro Frame in ms\n",
    "    loop=0\n",
    ")"
   ]
  },
  {
   "cell_type": "code",
   "execution_count": 5,
   "id": "214df9e2",
   "metadata": {},
   "outputs": [
    {
     "data": {
      "text/plain": [
       "True"
      ]
     },
     "execution_count": 5,
     "metadata": {},
     "output_type": "execute_result"
    }
   ],
   "source": [
    "import os\n",
    "import webbrowser\n",
    "from pathlib import Path\n",
    "\n",
    "gif_path = Path(\"spielverlauf.gif\").resolve()\n",
    "\n",
    "# Variante A: mit webbrowser (funktioniert oft für .gif)\n",
    "webbrowser.open(gif_path.as_uri())\n",
    "\n",
    "# Variante B: mit OS-spezifischem Befehl\n",
    "# (kann als Fallback verwendet werden)\n",
    "\n",
    "#os.startfile(gif_path)"
   ]
  }
 ],
 "metadata": {
  "kernelspec": {
   "display_name": "Python 3 (ipykernel)",
   "language": "python",
   "name": "python3"
  },
  "language_info": {
   "codemirror_mode": {
    "name": "ipython",
    "version": 3
   },
   "file_extension": ".py",
   "mimetype": "text/x-python",
   "name": "python",
   "nbconvert_exporter": "python",
   "pygments_lexer": "ipython3",
   "version": "3.12.4"
  }
 },
 "nbformat": 4,
 "nbformat_minor": 5
}
